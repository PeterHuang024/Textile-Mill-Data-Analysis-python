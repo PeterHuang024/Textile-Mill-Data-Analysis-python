{
 "cells": [
  {
   "cell_type": "code",
   "execution_count": 1,
   "metadata": {
    "collapsed": true
   },
   "outputs": [],
   "source": [
    "import matplotlib\n",
    "matplotlib.use('TkAgg')\n",
    "import numpy as np\n",
    "from matplotlib.backends.backend_tkagg import FigureCanvasTkAgg\n",
    "from matplotlib.figure import Figure\n",
    "import tkinter as tk\n",
    "from tkinter.ttk import *"
   ]
  },
  {
   "cell_type": "code",
   "execution_count": 2,
   "metadata": {
    "collapsed": true
   },
   "outputs": [],
   "source": [
    "import csv\n",
    "import codecs\n",
    "import pandas as pd\n",
    "import numpy as np"
   ]
  },
  {
   "cell_type": "code",
   "execution_count": 3,
   "metadata": {
    "collapsed": true
   },
   "outputs": [],
   "source": [
    "df1 = pd.read_csv('2013_buyer.csv', encoding='big5')"
   ]
  },
  {
   "cell_type": "code",
   "execution_count": 4,
   "metadata": {
    "collapsed": true
   },
   "outputs": [],
   "source": [
    "df2 = pd.read_csv('2014_buyer.csv', encoding='big5')"
   ]
  },
  {
   "cell_type": "code",
   "execution_count": 5,
   "metadata": {
    "collapsed": true
   },
   "outputs": [],
   "source": [
    "df3 = pd.read_csv('2015_buyer.csv', encoding='big5')"
   ]
  },
  {
   "cell_type": "code",
   "execution_count": 6,
   "metadata": {
    "collapsed": true
   },
   "outputs": [],
   "source": [
    "df4 = pd.read_csv('2016_buyer.csv', encoding='big5')"
   ]
  },
  {
   "cell_type": "code",
   "execution_count": 7,
   "metadata": {
    "collapsed": true
   },
   "outputs": [],
   "source": [
    "df5 = pd.read_csv('2017_buyer.csv', encoding='big5')"
   ]
  },
  {
   "cell_type": "code",
   "execution_count": 8,
   "metadata": {
    "collapsed": true
   },
   "outputs": [],
   "source": [
    "df6 = pd.read_csv('2018_buyer.csv', encoding='big5')"
   ]
  },
  {
   "cell_type": "code",
   "execution_count": 13,
   "metadata": {},
   "outputs": [],
   "source": [
    "df_all= pd.concat([df1,df2,df3,df4,df5,df6],ignore_index=True)"
   ]
  },
  {
   "cell_type": "code",
   "execution_count": 14,
   "metadata": {
    "scrolled": false
   },
   "outputs": [],
   "source": [
    "df_2017=df_all.loc[df_all['產品年度1']==2017]\n",
    "df_2017sum=df_2017.groupby(df_all['產品代號'])['接單數量1'].sum()\n",
    "df_2017top=df_2017sum.sort_values(ascending=False)\n",
    "df_2017top30=df_2017top.iloc[:30]"
   ]
  },
  {
   "cell_type": "code",
   "execution_count": 15,
   "metadata": {
    "scrolled": true
   },
   "outputs": [
    {
     "data": {
      "text/plain": [
       "產品代號\n",
       "EYHG0276    394040.0\n",
       "EYGB0090    241158.0\n",
       "EYHH0180    211557.0\n",
       "EYEB0723    179340.0\n",
       "EYHI0108    137436.0\n",
       "FPHI0089    119428.0\n",
       "EYKC0023    118176.0\n",
       "EYDB0311    112419.0\n",
       "EYDA0374    100602.0\n",
       "EYHB0432     92959.0\n",
       "EYKC0022     91270.0\n",
       "EYHH0178     86300.0\n",
       "EYHH0135     82333.0\n",
       "EYHI0121     82191.0\n",
       "EYHA0417     81608.0\n",
       "EYKC0083     79845.6\n",
       "EYKB0028     78954.2\n",
       "EYGB0092     66044.0\n",
       "EYHH0129     43378.0\n",
       "EYHI0160     41537.0\n",
       "EYDA0394     39023.0\n",
       "EYHI0197     37905.0\n",
       "EYHH0181     37576.0\n",
       "EYHG0281     33240.0\n",
       "EYHG0277     32406.0\n",
       "EYKI0005     32349.0\n",
       "EYKB0187     28989.2\n",
       "EYKI0020     26788.0\n",
       "EYCA0114     26245.8\n",
       "EYKC0189     24900.0\n",
       "Name: 接單數量1, dtype: float64"
      ]
     },
     "execution_count": 15,
     "metadata": {},
     "output_type": "execute_result"
    }
   ],
   "source": [
    "df_2017top30[:30]"
   ]
  },
  {
   "cell_type": "code",
   "execution_count": 18,
   "metadata": {},
   "outputs": [],
   "source": [
    "df_gd1=pd.read_csv('2013_good.csv', encoding='big5')"
   ]
  },
  {
   "cell_type": "code",
   "execution_count": 19,
   "metadata": {},
   "outputs": [],
   "source": [
    "df_gd2=pd.read_csv('2014_good.csv', encoding='big5')"
   ]
  },
  {
   "cell_type": "code",
   "execution_count": 20,
   "metadata": {
    "collapsed": true
   },
   "outputs": [],
   "source": [
    "df_gd3=pd.read_csv('2015_good.csv', encoding='big5')"
   ]
  },
  {
   "cell_type": "code",
   "execution_count": 21,
   "metadata": {
    "collapsed": true
   },
   "outputs": [],
   "source": [
    "df_gd4=pd.read_csv('2016_good.csv', encoding='big5')"
   ]
  },
  {
   "cell_type": "code",
   "execution_count": 22,
   "metadata": {
    "collapsed": true
   },
   "outputs": [],
   "source": [
    "df_gd5=pd.read_csv('2017_good.csv', encoding='big5')"
   ]
  },
  {
   "cell_type": "code",
   "execution_count": 46,
   "metadata": {
    "collapsed": true
   },
   "outputs": [],
   "source": [
    "df_gd6=pd.read_csv('2018_good.csv', encoding='big5')"
   ]
  },
  {
   "cell_type": "code",
   "execution_count": 87,
   "metadata": {
    "collapsed": true
   },
   "outputs": [],
   "source": [
    "df_allgd=pd.concat([df_gd1,df_gd2,df_gd3,df_gd4,df_gd5,df_gd6],ignore_index=True,sort=False)"
   ]
  },
  {
   "cell_type": "code",
   "execution_count": null,
   "metadata": {
    "collapsed": true
   },
   "outputs": [],
   "source": []
  },
  {
   "cell_type": "code",
   "execution_count": null,
   "metadata": {
    "collapsed": true
   },
   "outputs": [],
   "source": []
  },
  {
   "cell_type": "code",
   "execution_count": 127,
   "metadata": {
    "collapsed": true
   },
   "outputs": [],
   "source": [
    "class mclass:\n",
    "    def __init__(self,  window):\n",
    "        self.window = window\n",
    "        self.label1 = Label(window,text='請選擇商品代號',width=13)\n",
    "        self.label1.grid(column=1,row=0)\n",
    "        self.menu1 = Combobox(window,width=13)\n",
    "        self.menu1['values']=('EYDA0374','EYKC0022','EYKC0023','EYHG0276','FPHI0089','EYDB0311','EYEB0723','EYHI0121','EYHH0129','EYHI0108',\n",
    "                             'EYHI0160','EYHB0432','EYHA0417','EYHH0181','EYHI0197','EYHH0178','EYHH0180','EYHG0277','EYHH0135','EYKI0005',\n",
    "                             'EYKI0020','EYDB0431','EYDA0394','EYCG0067','EYHG0275','EYDH0355','EYKD0169','EYGB0090','FPKH0009','EYHI0199')         \n",
    "        self.menu1.grid(column=1,row=1)\n",
    "        self.label2 = Label(window,text='請選擇季節',width=13)\n",
    "        self.label2.grid(column=2,row=0)\n",
    "        self.menu2 = Combobox(window,width=13)\n",
    "        self.menu2['values']=('春天','夏天','秋冬','全年')\n",
    "        self.menu2.grid(column=2,row=1)\n",
    "        self.label11=Label(window,text='請選擇比較區間',width=13)\n",
    "        self.label11.grid(column=3,row=0)\n",
    "        self.menu3 = Combobox(window,width=13)\n",
    "        self.menu3['values']=('2017前10名','2017 10-20名','2017 20-30名')\n",
    "        self.menu3.grid(column=3,row=1)\n",
    "        self.button = Button(window,text='產品年度接單量圖',width=14,command=self.plot)\n",
    "        self.button.grid(column=0,row=0)\n",
    "        self.canvas=tk.Canvas(window,height=500,width=500,bg='white')\n",
    "        self.canvas.grid(column=1,row=3,columnspan=3,rowspan=3)\n",
    "        self.label31=tk.Label(window,text='產品成分',width=15,font=44)\n",
    "        self.label31.grid(column=4,row=1,sticky='nw',rowspan=2)\n",
    "        self.var=tk.StringVar()\n",
    "        self.var1=tk.StringVar()\n",
    "        self.var2=tk.StringVar()\n",
    "        self.var3=tk.StringVar()\n",
    "        self.label3 = tk.Label(window,textvariable=self.var,width=50,height=17,bg='white')\n",
    "        self.label3.grid(column=4,row=3,sticky='nw',rowspan=2)\n",
    "        self.label4 = tk.Label(window,textvariable=self.var1,width=50,height=17,bg='white')\n",
    "        self.label4.grid(column=5,row=3,sticky='nw')\n",
    "        self.label5 = tk.Label(window,textvariable=self.var2,width=50,height=17,bg='white')\n",
    "        self.label5.grid(column=4,row=4,sticky='nw')\n",
    "        self.label6 = tk.Label(window,textvariable=self.var3,width=50,height=17,bg='white')\n",
    "        self.label6.grid(column=5,row=4,sticky='nw')\n",
    "        self.button2=Button(window,text='產品比較圖',width=14,command=self.plot2)\n",
    "        self.button2.grid(column=0,row=1)\n",
    "        \n",
    "        \n",
    "    def plot(self): \n",
    "        data1=df_all.loc[df_all['產品代號']==self.menu1.get()]\n",
    "        #print(self.menu2.get())\n",
    "        if self.menu2.get()=='春天':\n",
    "            data2=data1.loc[data1['季節名稱1']=='SPRING']\n",
    "            \n",
    "        if self.menu2.get()=='夏天':\n",
    "            data2=data1.loc[data1['季節名稱1']=='SUMMER']\n",
    "            \n",
    "        if self.menu2.get()=='秋冬':\n",
    "            subdata1=data1.loc[data1['季節名稱1']=='FALL']\n",
    "            subdata2=data1.loc[data1['季節名稱1']=='FA/WI']\n",
    "            subdata3=data1.loc[data1['季節名稱1']=='WINTER']\n",
    "            subdata4=data1.loc[data1['季節名稱1']=='PRE FALL']\n",
    "            data2=pd.concat([subdata1,subdata2,subdata3,subdata4],ignore_index=True,sort=False)\n",
    "        if self.menu2.get()=='全年':\n",
    "            data2=data1\n",
    "            \n",
    "        \n",
    "        subdata=data2.groupby(data2['產品年度1'])['接單數量1'].sum()\n",
    "        #print(subdata)\n",
    "        fig = Figure(figsize=(5,5))\n",
    "        a = fig.add_subplot(111)\n",
    "        a.scatter(subdata.index,subdata.values,color='red')     \n",
    "        a.plot(subdata.index,subdata.values,color='blue')\n",
    "        a.set_title (\"銷售量\", fontsize=16)\n",
    "        a.set_ylabel(\"Y\", fontsize=14)\n",
    "        a.set_xlabel(\"X\", fontsize=14)\n",
    "        a.set_xlim(2012,2019)\n",
    "        #a.set_ylim(0,100000)\n",
    "\n",
    "        canvas = FigureCanvasTkAgg(fig, master=self.window)\n",
    "        canvas.get_tk_widget().grid(column=1,row=3,columnspan=3,rowspan=3)\n",
    "        canvas.draw()\n",
    "        data3=df_allgd.loc[df_allgd['產品代號']==self.menu1.get()]\n",
    "        data4=data3.dropna(axis=1,how='any')\n",
    "        vardata=data4.iloc[:,:6]\n",
    "        vardata1=data4.iloc[:,6:12]\n",
    "        vardata2=data4.iloc[:,12:18]\n",
    "        vardata3=data4.iloc[:,18:24]\n",
    "        self.var.set(vardata)\n",
    "        self.var1.set(vardata1)\n",
    "        self.var2.set(vardata2)\n",
    "        self.var3.set(vardata3)\n",
    "    def plot2(self):\n",
    "        print(a)\n",
    "        \n",
    "\n",
    "            \n",
    "            \n",
    "            \n",
    "        \n",
    "        \n",
    "        \n",
    "\n",
    "window= tk.Tk()\n",
    "window.geometry('800x800')\n",
    "start= mclass (window)\n",
    "window.mainloop()"
   ]
  },
  {
   "cell_type": "code",
   "execution_count": null,
   "metadata": {
    "collapsed": true
   },
   "outputs": [],
   "source": []
  },
  {
   "cell_type": "code",
   "execution_count": null,
   "metadata": {
    "collapsed": true
   },
   "outputs": [],
   "source": []
  },
  {
   "cell_type": "code",
   "execution_count": null,
   "metadata": {
    "collapsed": true
   },
   "outputs": [],
   "source": []
  },
  {
   "cell_type": "code",
   "execution_count": null,
   "metadata": {
    "collapsed": true
   },
   "outputs": [],
   "source": []
  },
  {
   "cell_type": "code",
   "execution_count": null,
   "metadata": {
    "collapsed": true
   },
   "outputs": [],
   "source": []
  },
  {
   "cell_type": "code",
   "execution_count": null,
   "metadata": {
    "collapsed": true
   },
   "outputs": [],
   "source": []
  }
 ],
 "metadata": {
  "kernelspec": {
   "display_name": "Python 3",
   "language": "python",
   "name": "python3"
  },
  "language_info": {
   "codemirror_mode": {
    "name": "ipython",
    "version": 3
   },
   "file_extension": ".py",
   "mimetype": "text/x-python",
   "name": "python",
   "nbconvert_exporter": "python",
   "pygments_lexer": "ipython3",
   "version": "3.6.1"
  }
 },
 "nbformat": 4,
 "nbformat_minor": 2
}
